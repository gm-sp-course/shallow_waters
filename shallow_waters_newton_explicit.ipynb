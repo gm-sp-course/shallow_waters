{
 "cells": [
  {
   "cell_type": "markdown",
   "id": "7acd25e7",
   "metadata": {},
   "source": [
    "\n",
    "# Structure-preserving shallow waters discretization\n",
    "\n",
    "This notebook implements a structure preserving discretization for the shallow waters equations\n",
    "using two different time integrators:\n",
    "  - A midpoint rule time integrator\n",
    "  - A Poisson time integrator\n"
   ]
  },
  {
   "cell_type": "markdown",
   "id": "d09087a6",
   "metadata": {},
   "source": [
    "\n",
    "## Load required libraries\n",
    "  - `firedrake`` is the main FEM library\n",
    "  - `numpy`` is used to store diagnostics results and to save them to a file\n",
    "  - `os` and `time` are used only to generate the output file in the correct place and with the nice names\n",
    "  - `matplotlib` is used for plotting the diagnostics in time\n",
    "  - `test_cases` contains the default run parameters for the test cases"
   ]
  },
  {
   "cell_type": "code",
   "execution_count": null,
   "id": "bd9bba61",
   "metadata": {},
   "outputs": [],
   "source": [
    "import firedrake\n",
    "import numpy\n",
    "import os\n",
    "import time\n",
    "\n",
    "from matplotlib import pyplot\n",
    "\n",
    "from test_cases import *"
   ]
  },
  {
   "cell_type": "markdown",
   "id": "3a9fba52",
   "metadata": {},
   "source": [
    "\n",
    "## Environment setup\n",
    "Generate folder and file where to save each run (they are saved inside results folder and named by time of run)\n"
   ]
  },
  {
   "cell_type": "code",
   "execution_count": null,
   "id": "cfcc12fd",
   "metadata": {},
   "outputs": [],
   "source": [
    "results_path = './results/' + time.strftime('%Y_%m_%d_%H_%M_%S', time.localtime()) + \"/\"\n",
    "if not os.path.exists(results_path):\n",
    "    os.makedirs(results_path)\n",
    "\n",
    "sol_outfile = firedrake.VTKFile(results_path + \"shallow_waters.pvd\")  # file name where to solve solution for plotting"
   ]
  },
  {
   "cell_type": "markdown",
   "id": "3a54acb0",
   "metadata": {},
   "source": [
    "## Parameters "
   ]
  },
  {
   "cell_type": "markdown",
   "id": "d4c46d1e",
   "metadata": {},
   "source": [
    "## Test run\n",
    "Select the test to run\n",
    "  - Gaussian hill initial condition: `gaussian_hill`\n",
    "  - Travelling wave: `travelling_wave`\n"
   ]
  },
  {
   "cell_type": "code",
   "execution_count": null,
   "id": "97a0af4f",
   "metadata": {
    "lines_to_next_cell": 2
   },
   "outputs": [],
   "source": [
    "test_case = \"double_vortex\"  # options:\n",
    "                               #    \"gaussian_hill\"\n",
    "                               #    \"travelling_wave\"\n",
    "                               #    \"double_vortex\"\n",
    "\n",
    "test_case_default_parameters = get_test_case_default_parameters[test_case]"
   ]
  },
  {
   "cell_type": "markdown",
   "id": "fbdd40d4",
   "metadata": {},
   "source": [
    "### Spatial discretization\n"
   ]
  },
  {
   "cell_type": "markdown",
   "id": "f2a47668",
   "metadata": {},
   "source": [
    "#### Domain and mesh size"
   ]
  },
  {
   "cell_type": "code",
   "execution_count": null,
   "id": "b26f21ac",
   "metadata": {},
   "outputs": [],
   "source": [
    "Lx = test_case_default_parameters[\"Lx\"]  # domain size in the x-direction\n",
    "Ly = test_case_default_parameters[\"Ly\"]  # domain size in the y-direction\n",
    "n_elements_x = test_case_default_parameters[\"n_elements_x\"]  # number of subdivisions in x-direction\n",
    "n_elements_y = test_case_default_parameters[\"n_elements_y\"]  # number of subdivisions in y-direction"
   ]
  },
  {
   "cell_type": "markdown",
   "id": "394dcb87",
   "metadata": {},
   "source": [
    "#### Domain and mesh size"
   ]
  },
  {
   "cell_type": "code",
   "execution_count": null,
   "id": "219f4e1f",
   "metadata": {},
   "outputs": [],
   "source": [
    "p = test_case_default_parameters[\"p\"]  # polynomial degree of de Rham complex\n",
    "use_quad_complex = True  # options:\n",
    "                         #    True: uses a quadrilateral mesh and the FEM bases over quadrilaterals discussed in the course\n",
    "                         #    False: uses a triangular mesh and the Raviart-Thomas bases"
   ]
  },
  {
   "cell_type": "markdown",
   "id": "8852d6f8",
   "metadata": {},
   "source": [
    "### Temporal discretization\n",
    "You can seet the time integrator to use, the time step, and the number of time steps.\n",
    "   - `midpoint`: uses the midpoint rule (lowest order Gauss-Lobatto time integrator) that is symplectic but since\n",
    "                 the Hamiltonian for the shallow waters is not quadratic (it is cubic) it does not exactly conserve\n",
    "                 energy\n",
    "   - `poisson`: uses the Poisson integrator, which is exactly energy conserving."
   ]
  },
  {
   "cell_type": "code",
   "execution_count": null,
   "id": "0aadd20a",
   "metadata": {},
   "outputs": [],
   "source": [
    "time_integrator = \"midpoint\"   # options:\n",
    "                              #    \"midpoint\"\n",
    "                              #    \"poisson\" \n",
    "dt = test_case_default_parameters[\"dt\"]  # time step size\n",
    "n_t_steps = test_case_default_parameters[\"n_t_steps\"]  # number of time steps to compute"
   ]
  },
  {
   "cell_type": "markdown",
   "id": "15583ae7",
   "metadata": {},
   "source": [
    "### Nonlinear solver parameters\n"
   ]
  },
  {
   "cell_type": "code",
   "execution_count": null,
   "id": "f45f7e6b",
   "metadata": {},
   "outputs": [],
   "source": [
    "newton_tol = 1e-12  # tolerance to reach to finish Newton-Raphson nonlinear solve step\n",
    "newton_max_iter = 20  # maximum number of iterations to perform per Newton-Raphson solve step"
   ]
  },
  {
   "cell_type": "markdown",
   "id": "c5355aa3",
   "metadata": {},
   "source": [
    "### Linear solver parameters\n",
    "Simply use a direct solver\n"
   ]
  },
  {
   "cell_type": "code",
   "execution_count": null,
   "id": "e4ba7b6d",
   "metadata": {
    "lines_to_next_cell": 2
   },
   "outputs": [],
   "source": [
    "MUMPS = {\n",
    "        \"snes_monitor\": None,\n",
    "        \"snes_max_it\":1000,\n",
    "        \"ksp_type\": \"preonly\",\n",
    "        \"mat_type\": \"aij\",\n",
    "        \"pc_type\": \"lu\",\n",
    "        \"pc_factor_mat_solver_type\": \"mumps\"\n",
    "        }"
   ]
  },
  {
   "cell_type": "markdown",
   "id": "865322f7",
   "metadata": {},
   "source": [
    "## Initial conditions\n"
   ]
  },
  {
   "cell_type": "markdown",
   "id": "937f7f3a",
   "metadata": {},
   "source": [
    "### Initial conditions for fluid elevation: h(t = 0)\n"
   ]
  },
  {
   "cell_type": "code",
   "execution_count": null,
   "id": "eee855a1",
   "metadata": {},
   "outputs": [],
   "source": [
    "h_0_lambda = test_case_default_parameters[\"h_0_lambda\"]"
   ]
  },
  {
   "cell_type": "markdown",
   "id": "8a65a99d",
   "metadata": {},
   "source": [
    "### Initial conditions for fluid velocity: u(t = 0)\n"
   ]
  },
  {
   "cell_type": "code",
   "execution_count": null,
   "id": "657ff29c",
   "metadata": {
    "lines_to_next_cell": 1
   },
   "outputs": [],
   "source": [
    "u_0_lambda = test_case_default_parameters[\"u_0_lambda\"]"
   ]
  },
  {
   "cell_type": "markdown",
   "id": "4ca9e99c",
   "metadata": {},
   "source": [
    "## Auxiliary functions extending Firedrake's functionality\n",
    "Implements specific functions required for 2D computations and not directly available in Firedrake:\n",
    "\n",
    "The rotational (curl of a scalar $w$, i.e., a vector $w \\vec{e}_{z}$)\n",
    " $$\n",
    " \\mathrm{rot}(w) := \\frac{\\partial w}{\\partial y}\\vec{e}_{x} - \\frac{\\partial w}{\\partial x}\\vec{e}_{y}\n",
    " $$\n",
    "\n",
    "The cross product ($\\times$) between two vectors $\\vec{u}$ and $\\vec{v}$ in 2D\n",
    "\n",
    "$$\n",
    "\\vec{u} \\times \\vec{v} := u_{x}v_{y} - u_{y}v_{x}\n",
    "$$\n",
    "\n",
    "The cross product between a scalar $w$, i.e., a vector $w \\vec{e}_{z}$, and a vector $\\vec{v}$ in 2D\n",
    "\n",
    "$$\n",
    "w \\times \\vec{v} := -w v_{y}\\vec{e}_{x} + w v_{x}\\vec{e}_{y}\n",
    "$$"
   ]
  },
  {
   "cell_type": "code",
   "execution_count": null,
   "id": "6c5e43f8",
   "metadata": {
    "lines_to_next_cell": 1
   },
   "outputs": [],
   "source": [
    "\n",
    "# Triple product (not used in the end)\n",
    "def triple_product(w, u, v):\n",
    "    return w*u[0]*v[1]-w*u[1]*v[0]\n",
    "\n",
    "# Rot\n",
    "def rot(w):\n",
    "    return firedrake.as_vector([w.dx(1),-w.dx(0)])\n",
    "\n",
    "# Cross product in 2D\n",
    "def cross_2d(u, v):\n",
    "    return u[0]*v[1]-u[1]*v[0]\n",
    "\n",
    "# Corss product between a scalar (vector in z-direction) and a vector in 2D\n",
    "def cross_scalar(w, v):\n",
    "    return firedrake.as_vector([-w*v[1], w*v[0]])"
   ]
  },
  {
   "cell_type": "markdown",
   "id": "2d1b3b11",
   "metadata": {},
   "source": [
    "## Auxiliary functions used in the computations\n",
    "For example, computation of potential vorticity."
   ]
  },
  {
   "cell_type": "code",
   "execution_count": null,
   "id": "2d245a63",
   "metadata": {
    "lines_to_next_cell": 1
   },
   "outputs": [],
   "source": [
    "def compute_vorticity(q_space, u, h, q):\n",
    "    q_trial = firedrake.TrialFunction(q_space)\n",
    "    q_test = firedrake.TestFunction(q_space)\n",
    "\n",
    "    a = firedrake.inner(h*q_trial, q_test)*firedrake.dx\n",
    "    L = firedrake.inner(u, rot(q_test))*firedrake.dx\n",
    "\n",
    "    A = firedrake.assemble(a)\n",
    "    b = firedrake.assemble(L)\n",
    "\n",
    "    firedrake.solve(A, q.vector(), b, solver_parameters=MUMPS)\n",
    "\n",
    "    return q"
   ]
  },
  {
   "cell_type": "markdown",
   "id": "08c05245",
   "metadata": {},
   "source": [
    "## Construct the mesh\n",
    "Constructs a periodic quadrilateral os triangular mesh with `n_elements_x` $\\times$ `n_elements_y` over a rectangular \n",
    "domain of dimensions `Lx` $\\times$ `Ly`.\n",
    "\n",
    "You can choose a quadrilateral or triangular mesh by setting `use_quad_complex=True`, respectively. This choice will also\n",
    "affect the basis functions used to define the discrete complex, see below."
   ]
  },
  {
   "cell_type": "code",
   "execution_count": null,
   "id": "524df5c8",
   "metadata": {},
   "outputs": [],
   "source": [
    "mesh = firedrake.PeriodicRectangleMesh(n_elements_x, n_elements_y, Lx, Ly, quadrilateral=use_quad_complex) \n",
    "x, y = firedrake.SpatialCoordinate(mesh)  # these are the coordinate variables of the mesh, necessary to use in expressions\n",
    "n_vector = firedrake.FacetNormal(mesh)  # the normal vectors at the mesh cell interfaces (not used in this case)"
   ]
  },
  {
   "cell_type": "markdown",
   "id": "c7a0056f",
   "metadata": {},
   "source": [
    "## Define the function spaces and the solution fields\n",
    "Firedrake (and most FEM solvers) work in a similar to how the problem is setup analytically. You need to:\n",
    "  1. Define the function spaces\n",
    "  2. Define your unknown fields as element of these spaces\n",
    "  3. Setup mixed spaces (collection of several spaces) to solve a problem with several unknown fields   \n",
    "\n",
    "The first two steps we perform here, the other one we perform inside the function that implement each time integrator.\n",
    "This was chosen because some time integrators may require different solves and therefore different mixed spaces.\n",
    "This is just a technical detail of the specific implementation in Firedrake.\n"
   ]
  },
  {
   "cell_type": "markdown",
   "id": "08f3d827",
   "metadata": {},
   "source": [
    "### Define the function spaces for the de Rham complex of degree p\n",
    "As discussed in the lectures we will need a set of spaces from a discrete de Rham complex.\n",
    "This is what is done here using some of the spaces available in Firedrake. Note that this \n",
    "specific choice of spaces we make here leads to the correct polynomials degrees, i.e.,\n",
    "\n",
    "$$\n",
    "\\mathbb{R} \\xhookrightarrow{} G \\stackrel{\\nabla\\times}{\\longrightarrow} D \\stackrel{\\nabla\\cdot}{\\longrightarrow} S \\longrightarrow 0\n",
    "$$\n",
    "\n",
    "and the polynomial degrees for each component in x- and y-directions are\n",
    "\n",
    "$$\n",
    "(p, p) \\stackrel{\\nabla\\times}{\\longrightarrow} (p, p-1) \\times (p-1, p) \\stackrel{\\nabla\\cdot}{\\longrightarrow} (p-1, p-1)\n",
    "$$\n",
    "\n",
    "__NOTE__: If you chose to use a triangular mesh above, by setting `use_quad_complex=False`, then you need to have the `D` space\n",
    "spanned by the Raviart-Thomas elements and the `S` space to be spanned by the DG elements, by replacing the lines\n",
    "```python\n",
    "D = firedrake.FunctionSpace(mesh, \"RTCF\", p)\n",
    "S = firedrake.FunctionSpace(mesh, \"DQ L2\", p-1)\n",
    "```\n",
    "with\n",
    "```python\n",
    "D = firedrake.FunctionSpace(mesh, \"RT\", p)\n",
    "S = firedrake.FunctionSpace(mesh, \"DG\", p-1)\n",
    "```\n",
    "\n",
    "This is automatically done by setting the flag `use_quad_complex` to either `True` (quadrilateral mesh, with mimetic bases) or \n",
    "`False` (triangular mesh, with RT basis)."
   ]
  },
  {
   "cell_type": "code",
   "execution_count": null,
   "id": "5a5f3bac",
   "metadata": {
    "lines_to_next_cell": 2
   },
   "outputs": [],
   "source": [
    "if use_quad_complex:\n",
    "    G = firedrake.FunctionSpace(mesh, \"CG\", p)  # standard continuous Galerkin elements (nodal interpolants) of degree (p,p), G \\subset H^{1}\n",
    "    D = firedrake.FunctionSpace(mesh, \"RTCF\", p)  # mimetic flux edge basis functions (in 2D) of degree (p, p-1) x (p-1, p), D \\subset H(div)\n",
    "    S = firedrake.FunctionSpace(mesh, \"DQ L2\", p - 1)  # standard discontinuous Galerkin elements of degree (p-1, p-1), S \\subset L^{2}\n",
    "\n",
    "else:\n",
    "    G = firedrake.FunctionSpace(mesh, \"CG\", p)  # standard continuous Galerkin elements (nodal interpolants) of degree (p,p), G \\subset H^{1}\n",
    "    D = firedrake.FunctionSpace(mesh, \"RT\", p)  # Raviart-Thomas flux edge basis functions (in 2D) of degree (p, p-1) x (p-1, p), D \\subset H(div)\n",
    "    S = firedrake.FunctionSpace(mesh, \"DG\", p - 1)  # standard discontinuous Galerkin elements of degree (p-1, p-1), S \\subset L^{2}"
   ]
  },
  {
   "cell_type": "markdown",
   "id": "db35f92e",
   "metadata": {},
   "source": [
    "### Setup solution fields \n",
    "Throughout this code we use the following notation\n",
    "  - the subscript 0 refers to the current time step solution (known field value)\n",
    "  - the subscript 1 refers to the next time step solution (unknown field value)\n",
    "  - for the prognostic variables ($\\vec{u}$ and $h$) the subscripts correspond to the\n",
    "    integer time steps: $t$ and $t + \\Delta t$.\n",
    "  - for the diagnostic variables ($vec{F}#, $q$, $K$) the subscripts correspond to the\n",
    "    fractional time steps: $t - \\frac{1}{2}\\Delta t$ and $t + \\frac{1}{2}\\Delta t$.\n"
   ]
  },
  {
   "cell_type": "code",
   "execution_count": null,
   "id": "61c910f6",
   "metadata": {},
   "outputs": [],
   "source": [
    "# Velocity field\n",
    "u_0 = firedrake.Function(D)  # current time step\n",
    "u_1 = firedrake.Function(D)  # next time step\n",
    "\n",
    "# Fluid depth field\n",
    "h_0 = firedrake.Function(S)  # current time step\n",
    "h_1 = firedrake.Function(S)  # next time step\n",
    "\n",
    "# Potential vorticity field\n",
    "q_0 = firedrake.Function(G)  # current time step\n",
    "q_1 = firedrake.Function(G)  # next time step\n",
    "q_1_temp = firedrake.Function(G)  # next time step directly computed from u_1\n",
    "\n",
    "# Mass flux\n",
    "F_0 = firedrake.Function(D)  # current time step\n",
    "F_1 = firedrake.Function(D)  # next time step\n",
    "\n",
    "# Kinetic energy\n",
    "K_0 = firedrake.Function(S)  # current time step\n",
    "K_1 = firedrake.Function(S)  # next time step\n",
    "\n",
    "# Assign names to the fields for saving to VTK file with nice names\n",
    "u_1.rename(\"Velocity\", \"Velocity\")\n",
    "q_1.rename(\"Potential vorticity\",\"Potential vorticity\")\n",
    "h_1.rename(\"Fluid depth\",\"Fluid depth\")\n",
    "F_1.rename(\"Mass flux\",\"Mass flux\")\n",
    "K_1.rename(\"Kinetic energy\",\"Kinetic energy\")"
   ]
  },
  {
   "cell_type": "markdown",
   "id": "93f400b2",
   "metadata": {},
   "source": [
    "## Define the time integrators\n"
   ]
  },
  {
   "cell_type": "markdown",
   "id": "e01638f0",
   "metadata": {},
   "source": [
    "### Define the midpoint integrator one-step evolution function\n"
   ]
  },
  {
   "cell_type": "code",
   "execution_count": null,
   "id": "d636fbd4",
   "metadata": {
    "lines_to_next_cell": 1
   },
   "outputs": [],
   "source": [
    "def advance_mid_point_newton(u_0, u_1, h_0, h_1, q_0, q_1, K_0, K_1, F_0, F_1, G, D, S, dt):\n",
    "    # Note that here the unknowns are:\n",
    "    #   u^{k+1}, h^{k+1}, q^{k+1} --> All at the next time step as for the midpoint rule\n",
    "    #   F^{k+1/2}, K^{k + 1/2}  --> These two are computed at the midpoint\n",
    "    #                               F^{k+1/2} = F_1 and K^{k+1/2} = K_1\n",
    "    #                               F^{k-1/2} = F_0 and K^{k-1/2} = K_0\n",
    "\n",
    "    # Setup the mixed space and the trial and test functions\n",
    "    M = D * S * G * S * D  # (u, h, q, K, F)\n",
    "    mixed_u_trial, mixed_h_trial, mixed_q_trial, mixed_K_trial, mixed_F_trial = firedrake.TrialFunctions(M)\n",
    "    mixed_u_test, mixed_h_test, mixed_q_test, mixed_K_test, mixed_F_test = firedrake.TestFunctions(M)\n",
    "\n",
    "    # Define the update solution for the Newton-Rapshon iterative solve\n",
    "    dsol = firedrake.Function(M)  # Newton correction\n",
    "    du, dh, dq, dK, dF = dsol.subfunctions\n",
    "\n",
    "    # Define temporary solution for updating the solution during Newton-Raphson method (this is very much Firedrake dependent)\n",
    "    sol_temp = firedrake.Function(M)  # temporary next time step for fixed-point error computation\n",
    "    u_temp, h_temp, q_temp, K_temp, F_temp = sol_temp.subfunctions\n",
    "\n",
    "    # Initialyze Newton-Raphson iteration\n",
    "    newton_iter = 1\n",
    "    newton_error = 1.0\n",
    "\n",
    "    # Print columns labels of Newton-Raphson output information\n",
    "    print(\"                           u         |           h         |           q         |           K         |           F         |       Total \")\n",
    "        \n",
    "    while (newton_error > newton_tol) and (newton_iter < newton_max_iter):\n",
    "        # Setup Newton method\n",
    "\n",
    "        # Right hand side\n",
    "        F = firedrake.inner(u_1 - u_0, mixed_u_test)*firedrake.dx + \\\n",
    "            dt*firedrake.inner(cross_scalar(q_1, F_1), mixed_u_test)*firedrake.dx - \\\n",
    "            dt*firedrake.inner(K_1, firedrake.div(mixed_u_test))*firedrake.dx - \\\n",
    "            0.5*g*dt*firedrake.inner(h_0 + h_1, firedrake.div(mixed_u_test))*firedrake.dx + \\\n",
    "            firedrake.inner(h_1 - h_0, mixed_h_test)*firedrake.dx + \\\n",
    "            dt*firedrake.inner(firedrake.div(F_1), mixed_h_test)*firedrake.dx + \\\n",
    "            firedrake.inner(0.5*(h_1+ h_0)*q_1, mixed_q_test)*firedrake.dx - \\\n",
    "            firedrake.inner(0.5*(u_1 + u_0), rot(mixed_q_test))*firedrake.dx + \\\n",
    "            firedrake.inner(K_1, mixed_K_test)*firedrake.dx - \\\n",
    "            0.5*firedrake.inner(0.5*(u_1 + u_0), 0.5*(u_1 + u_0)*mixed_K_test)*firedrake.dx + \\\n",
    "            firedrake.inner(F_1, mixed_F_test)*firedrake.dx - \\\n",
    "            firedrake.inner(0.5*(h_1*u_1 + h_0*u_0), mixed_F_test)*firedrake.dx\n",
    "        \n",
    "        # Jacobian\n",
    "        a = firedrake.inner(mixed_u_trial, mixed_u_test)*firedrake.dx + \\\n",
    "            dt*firedrake.inner(cross_scalar(mixed_q_trial, F_1), mixed_u_test)*firedrake.dx + \\\n",
    "            dt*firedrake.inner(cross_scalar(q_1, mixed_F_trial), mixed_u_test)*firedrake.dx - \\\n",
    "            dt*firedrake.inner(mixed_K_trial, firedrake.div(mixed_u_test))*firedrake.dx - \\\n",
    "            0.5*g*dt*firedrake.inner(mixed_h_trial, firedrake.div(mixed_u_test))*firedrake.dx + \\\n",
    "            firedrake.inner(mixed_h_trial, mixed_h_test)*firedrake.dx + \\\n",
    "            dt*firedrake.inner(firedrake.div(mixed_F_trial), mixed_h_test)*firedrake.dx + \\\n",
    "            0.5*firedrake.inner(mixed_h_trial*q_1, mixed_q_test)*firedrake.dx + \\\n",
    "            0.5*firedrake.inner((h_1 + h_0)*mixed_q_trial, mixed_q_test)*firedrake.dx - \\\n",
    "            0.5*firedrake.inner(mixed_u_trial, rot(mixed_q_test))*firedrake.dx + \\\n",
    "            firedrake.inner(mixed_K_trial, mixed_K_test)*firedrake.dx - \\\n",
    "            firedrake.inner(0.5*mixed_u_trial, 0.5*(u_1 + u_0)*mixed_K_test)*firedrake.dx + \\\n",
    "            firedrake.inner(mixed_F_trial, mixed_F_test)*firedrake.dx - \\\n",
    "            0.5*firedrake.inner(mixed_h_trial*u_1, mixed_F_test)*firedrake.dx - \\\n",
    "            0.5*firedrake.inner(h_1*mixed_u_trial, mixed_F_test)*firedrake.dx\n",
    "\n",
    "        # Solve fixed point update step\n",
    "        A = firedrake.assemble(a)\n",
    "        b = firedrake.assemble(F)\n",
    "\n",
    "        firedrake.solve(A, dsol.vector(), b, solver_parameters=MUMPS)\n",
    "\n",
    "        # Compute Newton error \n",
    "        norm_u = firedrake.norm(u_1)\n",
    "        if norm_u < 1.0:\n",
    "            newton_error_u = firedrake.norm(du)\n",
    "        else:\n",
    "            newton_error_u = firedrake.norm(du) / norm_u\n",
    "\n",
    "        norm_h = firedrake.norm(h_1)   \n",
    "        if norm_h < 1.0:\n",
    "            newton_error_h = firedrake.norm(dh)\n",
    "        else:\n",
    "            newton_error_h = firedrake.norm(dh)/norm_h\n",
    "        \n",
    "        norm_q = firedrake.norm(q_1)   \n",
    "        if norm_q < 1.0:\n",
    "            newton_error_q = firedrake.norm(dq)\n",
    "        else:\n",
    "            newton_error_q = firedrake.norm(dq)/norm_q\n",
    "        \n",
    "        norm_K = firedrake.norm(K_1)   \n",
    "        if norm_K < 1.0:\n",
    "            newton_error_K = firedrake.norm(dK)\n",
    "        else:\n",
    "            newton_error_K = firedrake.norm(dK)/norm_K\n",
    "\n",
    "        norm_F = firedrake.norm(F_1)   \n",
    "        if norm_F < 1.0:\n",
    "            newton_error_F = firedrake.norm(dF)\n",
    "        else:\n",
    "            newton_error_F = firedrake.norm(dF)/norm_F\n",
    "\n",
    "        newton_error = (newton_error_u + newton_error_h + newton_error_q + newton_error_K + newton_error_F)/5.0\n",
    "\n",
    "        print(\"   Newton error: {newton_error_u:19.16f} | {newton_error_h:19.16f} | {newton_error_q:19.16f} | \"\\\n",
    "                \"{newton_error_K:19.16f} | {newton_error_F:19.16f} | {newton_error:19.16f}\".format(newton_error_u=newton_error_u, \\\n",
    "                newton_error_h=newton_error_h, newton_error_q=newton_error_q, newton_error_K=newton_error_K, \\\n",
    "                newton_error_F=newton_error_F, newton_error=newton_error))\n",
    "        \n",
    "        # Update solution\n",
    "        u_temp.vector()[:] = u_1.vector()[:] - du.vector()[:]\n",
    "        h_temp.vector()[:] = h_1.vector()[:] - dh.vector()[:]\n",
    "        q_temp.vector()[:] = q_1.vector()[:] - dq.vector()[:]\n",
    "        K_temp.vector()[:] = K_1.vector()[:] - dK.vector()[:]\n",
    "        F_temp.vector()[:] = F_1.vector()[:] - dF.vector()[:]\n",
    "\n",
    "        u_1.assign(u_temp)\n",
    "        h_1.assign(h_temp)\n",
    "        q_1.assign(q_temp)\n",
    "        K_1.assign(K_temp)\n",
    "        F_1.assign(F_temp)"
   ]
  },
  {
   "cell_type": "markdown",
   "id": "1e9c6611",
   "metadata": {},
   "source": [
    "### Define the Poisson integrator one-step evolution function\n"
   ]
  },
  {
   "cell_type": "code",
   "execution_count": null,
   "id": "7adaaca0",
   "metadata": {},
   "outputs": [],
   "source": [
    "def advance_poisson_newton(u_0, u_1, h_0, h_1, q_0, q_1, K_0, K_1, F_0, F_1, G, D, S, dt):\n",
    "    # Note that here the unknowns are:\n",
    "    #   u^{k+1}, h^{k+1}, q^{k+1} --> All at the next time step as for the midpoint rule\n",
    "    #   F^{k+1/2}, K^{k + 1/2}  --> These two are computed at the midpoint with a symmetrizing average\n",
    "    #                               F^{k+1/2} = F_1 and K^{k+1/2} = K_1\n",
    "    #                               F^{k-1/2} = F_0 and K^{k-1/2} = K_0\n",
    "\n",
    "    M = D * S * G * S * D  # (u, h, q, K, F)\n",
    "    mixed_u_trial, mixed_h_trial, mixed_q_trial, mixed_K_trial, mixed_F_trial = firedrake.TrialFunctions(M)\n",
    "    mixed_u_test, mixed_h_test, mixed_q_test, mixed_K_test, mixed_F_test = firedrake.TestFunctions(M)\n",
    "\n",
    "    dsol = firedrake.Function(M)  # Newton correction\n",
    "    du, dh, dq, dK, dF = dsol.subfunctions\n",
    "\n",
    "    sol_temp = firedrake.Function(M)  # temporary next time step for fixed-point error computation\n",
    "    u_temp, h_temp, q_temp, K_temp, F_temp = sol_temp.subfunctions\n",
    "\n",
    "    newton_iter = 1\n",
    "    newton_error = 1.0\n",
    "\n",
    "    # Print columns labels of Newton-Raphson output information\n",
    "    print(\"                           u         |           h         |           q         |           K         |           F         |       Total \")\n",
    "        \n",
    "    while (newton_error > newton_tol) and (newton_iter < newton_max_iter):\n",
    "\n",
    "        # Setup Newton method\n",
    "        \n",
    "        # Right hand side\n",
    "        F = firedrake.inner(u_1 - u_0, mixed_u_test)*firedrake.dx + \\\n",
    "            0.5*dt*firedrake.inner(cross_scalar(q_0 + q_1, F_1), mixed_u_test)*firedrake.dx - \\\n",
    "            dt*firedrake.inner(K_1, firedrake.div(mixed_u_test))*firedrake.dx - \\\n",
    "            0.5*g*dt*firedrake.inner(h_0 + h_1, firedrake.div(mixed_u_test))*firedrake.dx + \\\n",
    "            firedrake.inner(h_1 - h_0, mixed_h_test)*firedrake.dx + \\\n",
    "            dt*firedrake.inner(firedrake.div(F_1), mixed_h_test)*firedrake.dx + \\\n",
    "            firedrake.inner(h_1*q_1, mixed_q_test)*firedrake.dx - \\\n",
    "            firedrake.inner(u_1, rot(mixed_q_test))*firedrake.dx + \\\n",
    "            firedrake.inner(K_1, mixed_K_test)*firedrake.dx - \\\n",
    "            (1.0/6.0)*firedrake.inner(u_1, u_1*mixed_K_test)*firedrake.dx - \\\n",
    "            (1.0/6.0)*firedrake.inner(u_1, u_0*mixed_K_test)*firedrake.dx - \\\n",
    "            (1.0/6.0)*firedrake.inner(u_0, u_0*mixed_K_test)*firedrake.dx + \\\n",
    "            firedrake.inner(F_1, mixed_F_test)*firedrake.dx - \\\n",
    "            (1.0/3.0)*firedrake.inner(h_0*u_0, mixed_F_test)*firedrake.dx - \\\n",
    "            (1.0/6.0)*firedrake.inner(h_0*u_1, mixed_F_test)*firedrake.dx - \\\n",
    "            (1.0/6.0)*firedrake.inner(h_1*u_0, mixed_F_test)*firedrake.dx - \\\n",
    "            (1.0/3.0)*firedrake.inner(h_1*u_1, mixed_F_test)*firedrake.dx\n",
    "        \n",
    "        # Jacobian\n",
    "        a = firedrake.inner(mixed_u_trial, mixed_u_test)*firedrake.dx + \\\n",
    "            0.5*dt*firedrake.inner(cross_scalar(mixed_q_trial, F_1), mixed_u_test)*firedrake.dx + \\\n",
    "            0.5*dt*firedrake.inner(cross_scalar(q_0 + q_1, mixed_F_trial), mixed_u_test)*firedrake.dx - \\\n",
    "            dt*firedrake.inner(mixed_K_trial, firedrake.div(mixed_u_test))*firedrake.dx - \\\n",
    "            0.5*g*dt*firedrake.inner(mixed_h_trial, firedrake.div(mixed_u_test))*firedrake.dx + \\\n",
    "            firedrake.inner(mixed_h_trial, mixed_h_test)*firedrake.dx + \\\n",
    "            dt*firedrake.inner(firedrake.div(mixed_F_trial), mixed_h_test)*firedrake.dx + \\\n",
    "            firedrake.inner(mixed_h_trial*q_1, mixed_q_test)*firedrake.dx + \\\n",
    "            firedrake.inner(h_1*mixed_q_trial, mixed_q_test)*firedrake.dx - \\\n",
    "            firedrake.inner(mixed_u_trial, rot(mixed_q_test))*firedrake.dx + \\\n",
    "            firedrake.inner(mixed_F_trial, mixed_F_test)*firedrake.dx - \\\n",
    "            (1.0/6.0)*firedrake.inner(h_1*mixed_u_trial, mixed_F_test)*firedrake.dx - \\\n",
    "            (1.0/6.0)*firedrake.inner(mixed_h_trial*u_1, mixed_F_test)*firedrake.dx - \\\n",
    "            (1.0/3.0)*firedrake.inner(h_1*mixed_u_trial, mixed_F_test)*firedrake.dx - \\\n",
    "            (1.0/3.0)*firedrake.inner(mixed_h_trial*u_1, mixed_F_test)*firedrake.dx + \\\n",
    "            firedrake.inner(mixed_K_trial, mixed_K_test)*firedrake.dx - \\\n",
    "            (1.0/6.0)*firedrake.inner(mixed_u_trial, u_0*mixed_K_test)*firedrake.dx - \\\n",
    "            (1.0/3.0)*firedrake.inner(mixed_u_trial, u_1*mixed_K_test)*firedrake.dx\n",
    "        \n",
    "        # Solve fixed point update step\n",
    "        A = firedrake.assemble(a)\n",
    "        b = firedrake.assemble(F)\n",
    "\n",
    "        firedrake.solve(A, dsol.vector(), b, solver_parameters=MUMPS)\n",
    "\n",
    "        # Compute Newton error \n",
    "        norm_u = firedrake.norm(u_1)\n",
    "        if norm_u < 1.0:\n",
    "            newton_error_u = firedrake.norm(du)\n",
    "        else:\n",
    "            newton_error_u = firedrake.norm(du) / norm_u\n",
    "\n",
    "        norm_h = firedrake.norm(h_1)   \n",
    "        if norm_h < 1.0:\n",
    "            newton_error_h = firedrake.norm(dh)\n",
    "        else:\n",
    "            newton_error_h = firedrake.norm(dh)/norm_h\n",
    "        \n",
    "        norm_q = firedrake.norm(q_1)   \n",
    "        if norm_q < 1.0:\n",
    "            newton_error_q = firedrake.norm(dq)\n",
    "        else:\n",
    "            newton_error_q = firedrake.norm(dq)/norm_q\n",
    "        \n",
    "        norm_K = firedrake.norm(K_1)   \n",
    "        if norm_K < 1.0:\n",
    "            newton_error_K = firedrake.norm(dK)\n",
    "        else:\n",
    "            newton_error_K = firedrake.norm(dK)/norm_K\n",
    "\n",
    "        norm_F = firedrake.norm(F_1)   \n",
    "        if norm_F < 1.0:\n",
    "            newton_error_F = firedrake.norm(dF)\n",
    "        else:\n",
    "            newton_error_F = firedrake.norm(dF)/norm_F\n",
    "\n",
    "        newton_error = (newton_error_u + newton_error_h + newton_error_q + newton_error_K + newton_error_F)/5.0\n",
    "\n",
    "        print(\"   Newton error: {newton_error_u:19.16f} | {newton_error_h:19.16f} | {newton_error_q:19.16f} | \"\\\n",
    "                \"{newton_error_K:19.16f} | {newton_error_F:19.16f} | {newton_error:19.16f}\".format(newton_error_u=newton_error_u, \\\n",
    "                newton_error_h=newton_error_h, newton_error_q=newton_error_q, newton_error_K=newton_error_K, \\\n",
    "                newton_error_F=newton_error_F, newton_error=newton_error))\n",
    "        \n",
    "        # Update solution\n",
    "        u_temp.vector()[:] = u_1.vector()[:] - du.vector()[:]\n",
    "        h_temp.vector()[:] = h_1.vector()[:] - dh.vector()[:]\n",
    "        q_temp.vector()[:] = q_1.vector()[:] - dq.vector()[:]\n",
    "        K_temp.vector()[:] = K_1.vector()[:] - dK.vector()[:]\n",
    "        F_temp.vector()[:] = F_1.vector()[:] - dF.vector()[:]\n",
    "\n",
    "        u_1.assign(u_temp)\n",
    "        h_1.assign(h_temp)\n",
    "        q_1.assign(q_temp)\n",
    "        K_1.assign(K_temp)\n",
    "        F_1.assign(F_temp)"
   ]
  },
  {
   "cell_type": "markdown",
   "id": "41227e6c",
   "metadata": {},
   "source": [
    "## Start time evolution\n"
   ]
  },
  {
   "cell_type": "markdown",
   "id": "d174aba8",
   "metadata": {},
   "source": [
    "### Setup the initial conditions"
   ]
  },
  {
   "cell_type": "code",
   "execution_count": null,
   "id": "e9c9799b",
   "metadata": {},
   "outputs": [],
   "source": [
    "u_0 = firedrake.Function(D).project(u_0_lambda(x, y))\n",
    "h_0 = firedrake.Function(S).project(h_0_lambda(x, y))\n",
    "\n",
    "u_1.assign(u_0)\n",
    "h_1.assign(h_0)"
   ]
  },
  {
   "cell_type": "markdown",
   "id": "771e68f3",
   "metadata": {},
   "source": [
    "### Allocate memory for simulation diagnostics and initialize them\n",
    "During time evolution we will compute the kinetic energy $K$, potential energy $P$, total energy $E$,\n",
    "enstrophy $E$, and total volume $V$.\n"
   ]
  },
  {
   "cell_type": "code",
   "execution_count": null,
   "id": "fc0aaa46",
   "metadata": {},
   "outputs": [],
   "source": [
    "energy_K = numpy.zeros(n_t_steps)\n",
    "energy_P = numpy.zeros(n_t_steps)\n",
    "energy = numpy.zeros(n_t_steps)\n",
    "enstrophy = numpy.zeros(n_t_steps)\n",
    "volume = numpy.zeros(n_t_steps)\n",
    "potential_vorticity = numpy.zeros(n_t_steps)\n",
    "\n",
    "# Compute simulation diagnostics\n",
    "# Energy\n",
    "energy_K[0] = 0.5*firedrake.assemble(firedrake.inner(u_1, u_1*h_1)*firedrake.dx)\n",
    "energy_P[0] = 0.5*firedrake.assemble(firedrake.inner(h_1, g*h_1)*firedrake.dx)\n",
    "energy[0] = energy_K[0] + energy_P[0]\n",
    "\n",
    "# Potential enstrophy\n",
    "compute_vorticity(G, u_1, h_1, q_1_temp)\n",
    "enstrophy[0] = 0.5*firedrake.assemble(firedrake.inner(h_1*q_1_temp, q_1_temp)*firedrake.dx)\n",
    "\n",
    "# Volume\n",
    "volume[0] = firedrake.assemble(h_1*firedrake.dx)\n",
    "\n",
    "# Potential vorticity\n",
    "potential_vorticity[0] = firedrake.assemble(firedrake.inner(h_1, q_1_temp)*firedrake.dx)"
   ]
  },
  {
   "cell_type": "markdown",
   "id": "4edbb75b",
   "metadata": {},
   "source": [
    "### Export the initial condition to paraview \n",
    "The solution at each time step will be exported to paraview for visualization, we start with the initial condition \n",
    "Note that the diagnostic variables $q$, $K$, and $\\vec{F}$ are zero at the first time step, simply because \n",
    "we do not compute them at the start point, as you recall we compute them at fractional time steps, therefore \n",
    "there is asynchrocity, we chose leave the first value of these variables at zero.\n"
   ]
  },
  {
   "cell_type": "code",
   "execution_count": null,
   "id": "467c367b",
   "metadata": {},
   "outputs": [],
   "source": [
    "sol_outfile.write(u_1, h_1, q_1, K_1, F_1, time = 0.0)"
   ]
  },
  {
   "cell_type": "markdown",
   "id": "b216a054",
   "metadata": {},
   "source": [
    "## Advance solution in time\n",
    "Here we advance the solution in time using either of\n",
    "  - the midpoint rule time integrator \n",
    "  - Poisson time integrator\n",
    "\n",
    "You can select which to use by setting the variable \n",
    "  - `time_integrator = \"midpoint\"`\n",
    "  - `time_integrator = \"poisson\"`\n",
    "\n",
    "see above."
   ]
  },
  {
   "cell_type": "code",
   "execution_count": null,
   "id": "50b931dd",
   "metadata": {},
   "outputs": [],
   "source": [
    "for time_step in range(1, n_t_steps):\n",
    "    print(\"\\nT step: \" + str(time_step))\n",
    "\n",
    "    # Reinitialize initial conditions\n",
    "    u_0.assign(u_1)\n",
    "    h_0.assign(h_1)\n",
    "    q_0.assign(q_1)\n",
    "    K_0.assign(K_1)\n",
    "    F_0.assign(F_1)\n",
    "\n",
    "    # Step in time\n",
    "    if time_integrator == \"midpoint\":\n",
    "        advance_mid_point_newton(u_0, u_1, h_0, h_1, q_0, q_1, K_0, K_1, F_0, F_1, G, D, S, dt)\n",
    "    elif time_integrator == \"poisson\":\n",
    "        advance_poisson_newton(u_0, u_1, h_0, h_1, q_0, q_1, K_0, K_1, F_0, F_1, G, D, S, dt)\n",
    "    else:\n",
    "        raise Exception(\"Type of time integrator not recognized, you can use: midpoint or poisson\")\n",
    "    \n",
    "    # Export the solutions to paraview \n",
    "    sol_outfile.write(u_1, h_1, q_1, K_1, F_1, time = dt*time_step)\n",
    "\n",
    "    # Compute simulation diagnostics\n",
    "    # Energy\n",
    "    energy_K[time_step] = 0.5*firedrake.assemble(firedrake.inner(u_1, u_1 * h_1)*firedrake.dx)\n",
    "    energy_P[time_step] = 0.5*firedrake.assemble(firedrake.inner(h_1, g*h_1)*firedrake.dx)\n",
    "    energy[time_step] = energy_K[time_step] + energy_P[time_step]\n",
    "    \n",
    "    # Potential enstrophy\n",
    "    compute_vorticity(G, u_1, h_1, q_1_temp)\n",
    "    enstrophy[time_step] = 0.5*firedrake.assemble(firedrake.inner(h_1*q_1_temp, q_1_temp)*firedrake.dx)\n",
    "    \n",
    "    # Volume\n",
    "    volume[time_step] = firedrake.assemble(h_1*firedrake.dx)\n",
    "\n",
    "    # Potential vorticity\n",
    "    potential_vorticity[time_step] = firedrake.assemble(firedrake.inner(h_1, q_1_temp)*firedrake.dx)\n",
    "\n",
    "    # Print diagnostics\n",
    "    print(\"\\n                          K+P        |           K         |           P         |           E         |           V         |            PV\")\n",
    "    print(\"   Diagnostics : {energy:19.16f} | {energy_K:19.16f} | {energy_P:19.16f} | \"\\\n",
    "                \"{enstrophy:19.16f} | {volume:19.16f} | {potential_vorticity:19.16f}\".format(energy=energy[time_step], \\\n",
    "                energy_K=energy_K[time_step], energy_P=energy_P[time_step], enstrophy=enstrophy[time_step], \\\n",
    "                volume=volume[time_step], potential_vorticity=potential_vorticity[time_step]))\n",
    "    print(\"   [t] - [t-dt]: {denergy:19.16f} | {denergy_K:19.16f} | {denergy_P:19.16f} | \"\\\n",
    "                \"{denstrophy:19.16f} | {dvolume:19.16f} | {dpotential_vorticity:19.16f}\".format(denergy=energy[time_step]-energy[time_step-1], \\\n",
    "                denergy_K=energy_K[time_step]-energy_K[time_step-1], denergy_P=energy_P[time_step]-energy_P[time_step-1], \\\n",
    "                denstrophy=enstrophy[time_step]-enstrophy[time_step-1], dvolume=volume[time_step]-volume[time_step-1], \\\n",
    "                dpotential_vorticity=potential_vorticity[time_step]-potential_vorticity[time_step-1]))\n",
    "    print(\"   [t] - [0]   : {denergy:19.16f} | {denergy_K:19.16f} | {denergy_P:19.16f} | \"\\\n",
    "                \"{denstrophy:19.16f} | {dvolume:19.16f} | {dpotential_vorticity:19.16f}\".format(denergy=energy[time_step]-energy[0], \\\n",
    "                denergy_K=energy_K[time_step]-energy_K[0], denergy_P=energy_P[time_step]-energy_P[0], \\\n",
    "                denstrophy=enstrophy[time_step]-enstrophy[1], dvolume=volume[time_step]-volume[0], \\\n",
    "                dpotential_vorticity=potential_vorticity[time_step]-potential_vorticity[0]))\n",
    "    \n",
    "    # Save diagnostics to file each time step (to be safe)\n",
    "    diagnostics_filename = results_path + \"diagnostics.npz\"\n",
    "    numpy.savez(diagnostics_filename, energy=energy, energy_K=energy_K, energy_P=energy_P, enstrophy=enstrophy, volume=volume)\n",
    "    \n",
    "    # Update the time step\n",
    "    time_step += 1"
   ]
  },
  {
   "cell_type": "markdown",
   "id": "18c2d9f4",
   "metadata": {},
   "source": [
    "### Save results to file \n"
   ]
  },
  {
   "cell_type": "code",
   "execution_count": null,
   "id": "0794417d",
   "metadata": {},
   "outputs": [],
   "source": [
    "diagnostics_filename = results_path + \"diagnostics.npz\"\n",
    "numpy.savez(diagnostics_filename, energy=energy, energy_K=energy_K, energy_P=energy_P, enstrophy=enstrophy, volume=volume)"
   ]
  },
  {
   "cell_type": "markdown",
   "id": "d62d7ec2",
   "metadata": {},
   "source": [
    "### Plot the diagnostics results\n"
   ]
  },
  {
   "cell_type": "code",
   "execution_count": null,
   "id": "c6a023a9",
   "metadata": {},
   "outputs": [],
   "source": [
    "#  Energy\n",
    "pyplot.figure()\n",
    "pyplot.plot(numpy.arange(0, n_t_steps)*dt, energy)\n",
    "pyplot.title(\"Energy\")\n",
    "pyplot.xlabel(\"t (s)\")\n",
    "energy_plot_filename = results_path + \"energy.pdf\"\n",
    "pyplot.savefig(energy_plot_filename, format='pdf', dpi=200)\n",
    "\n",
    "#  Potential enstrophy\n",
    "pyplot.figure()\n",
    "pyplot.plot(numpy.arange(1, n_t_steps)*dt, enstrophy[1:])\n",
    "pyplot.title(\"Potential Enstrophy\")\n",
    "pyplot.xlabel(\"t (s)\")\n",
    "energy_plot_filename = results_path + \"enstrophy.pdf\"\n",
    "pyplot.savefig(energy_plot_filename, format='pdf', dpi=200)\n",
    "\n",
    "#  Volume\n",
    "pyplot.figure()\n",
    "pyplot.plot(numpy.arange(0, n_t_steps)*dt, volume)\n",
    "pyplot.title(\"Total volume\")\n",
    "pyplot.xlabel(\"t (s)\")\n",
    "energy_plot_filename = results_path + \"volume.pdf\"\n",
    "pyplot.savefig(energy_plot_filename, format='pdf', dpi=200)\n",
    "\n",
    "pyplot.show()"
   ]
  }
 ],
 "metadata": {
  "jupytext": {
   "cell_metadata_filter": "-all",
   "main_language": "python",
   "notebook_metadata_filter": "-all"
  }
 },
 "nbformat": 4,
 "nbformat_minor": 5
}
